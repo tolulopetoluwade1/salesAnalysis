{
 "cells": [
  {
   "cell_type": "markdown",
   "id": "ca1eae5b-eb25-4013-823f-0bede0f680ac",
   "metadata": {},
   "source": [
    "# This is our first Python class \n",
    "\n",
    "### Data Types:\n",
    "The data types in Python are as follows:\n",
    "\n",
    "- Integer (Int): These are whole numbers, such as 1,2,5,6,7 etc\n",
    "\n",
    "- Float (Float): These are decimal numbers such as 0.4, 0.5, etc\n",
    "\n",
    "- String (Str): These are text values or any data that is in quotes (single or double) such as: 'age', \"date\", \"45\"\n",
    "\n",
    "- Boolean (bool): These are logical statements/true or false statements\n",
    "\n",
    "- Complex: These are complex values such as 'a+bx', etc"
   ]
  },
  {
   "cell_type": "markdown",
   "id": "07201f54-6bd5-4455-a15c-21e48dcc5f46",
   "metadata": {},
   "source": [
    "## Variables:\n",
    "A variable is a container, a reference for any data, value or items in python. It holds and stores the values in the memory so that any time you need the value or data, you can always call the variable and you will be able to access it \n",
    "\n",
    "Variable naming convention (PEP 8)\n",
    "- PEP 8 is the style guide for python code including how to name variables.\n",
    "\n",
    "- Variable names should be written in lowercase letters and separated by underscores: car_make = \"Nissan\"\n",
    "\n",
    "- Variable names should describe the purpose and convey the meaning of the variable or data that is stored in it: count_of_scores = 10, etc\n",
    "\n",
    "- Avoid using single character names except for counter or iterators: x, y, a, etc\n",
    "\n",
    "- No reserved keywords should be used as variable names : print, for, if, input, etc\n",
    "\n",
    "- Python is a case sensitive language, so, variable names are case sensitive: for example, name = 'Oluwakemi' is different from Name = 'Oluwakemi'\n",
    "\n",
    "- You can use CamelCase as your variable name, for example: nameOfCars"
   ]
  },
  {
   "cell_type": "code",
   "execution_count": 5,
   "id": "f7ab633c-c224-4b64-a017-639d924103e1",
   "metadata": {},
   "outputs": [
    {
     "name": "stdout",
     "output_type": "stream",
     "text": [
      "10\n"
     ]
    }
   ],
   "source": [
    "number = 10\n",
    "print(number)"
   ]
  },
  {
   "cell_type": "code",
   "execution_count": 6,
   "id": "a5869b7b-7164-49b7-a10b-bc3249c2071d",
   "metadata": {},
   "outputs": [
    {
     "name": "stdout",
     "output_type": "stream",
     "text": [
      "Tobiloba\n"
     ]
    }
   ],
   "source": [
    "name = 'Tobiloba'\n",
    "print(name)"
   ]
  },
  {
   "cell_type": "code",
   "execution_count": 7,
   "id": "9ab2d5a8-20ef-4cf0-b0ed-5e6722dbb79d",
   "metadata": {},
   "outputs": [
    {
     "name": "stdout",
     "output_type": "stream",
     "text": [
      "Tobiloba is 10 years old \n"
     ]
    }
   ],
   "source": [
    "#Concatenate all the variables \n",
    "print(name + ' is ' + str(number) + ' years old ')"
   ]
  },
  {
   "cell_type": "markdown",
   "id": "b499ae14-29d0-4284-aa31-9267cf94921f",
   "metadata": {},
   "source": [
    "### Mathematical operators: +, -, /, //, %, <, >, != , ==, *, **,and, or"
   ]
  },
  {
   "cell_type": "code",
   "execution_count": 9,
   "id": "a8aa583d-e61f-4e79-8047-3ca8059f445b",
   "metadata": {},
   "outputs": [
    {
     "name": "stdout",
     "output_type": "stream",
     "text": [
      "12\n"
     ]
    }
   ],
   "source": [
    "#+; this adds values it can also concatenate strings \n",
    "print(4 + 8) "
   ]
  },
  {
   "cell_type": "code",
   "execution_count": 10,
   "id": "3093fe57-0aaf-4787-8f29-0337c82f13ec",
   "metadata": {},
   "outputs": [
    {
     "name": "stdout",
     "output_type": "stream",
     "text": [
      "-5\n"
     ]
    }
   ],
   "source": [
    "#-; this subtracts values \n",
    "print(5 - 10)"
   ]
  },
  {
   "cell_type": "code",
   "execution_count": 11,
   "id": "405745c2-c564-4b97-9a3a-5568f51579b0",
   "metadata": {},
   "outputs": [
    {
     "name": "stdout",
     "output_type": "stream",
     "text": [
      "15.6\n"
     ]
    }
   ],
   "source": [
    "#/; this divides values \n",
    "print(78/5)"
   ]
  },
  {
   "cell_type": "code",
   "execution_count": 12,
   "id": "4c7d5547-018e-458b-851b-e2435629a050",
   "metadata": {},
   "outputs": [
    {
     "data": {
      "text/plain": [
       "5"
      ]
     },
     "execution_count": 12,
     "metadata": {},
     "output_type": "execute_result"
    }
   ],
   "source": [
    "#//; floor division: this returns the whole number in a duivision \n",
    "\n",
    "45//8"
   ]
  },
  {
   "cell_type": "code",
   "execution_count": 13,
   "id": "d2752a8c-5d7d-40ae-a853-50f0877bfd0e",
   "metadata": {},
   "outputs": [
    {
     "data": {
      "text/plain": [
       "2"
      ]
     },
     "execution_count": 13,
     "metadata": {},
     "output_type": "execute_result"
    }
   ],
   "source": [
    "#%; modulo; this returns the remainder of a division \n",
    "17%5"
   ]
  },
  {
   "cell_type": "code",
   "execution_count": 14,
   "id": "56b71fea-d296-4b9a-b2f8-ee841ed9b6fd",
   "metadata": {},
   "outputs": [
    {
     "name": "stdout",
     "output_type": "stream",
     "text": [
      "True\n",
      "False\n"
     ]
    }
   ],
   "source": [
    "#<; less than; this is a boolean operator because it returns a True or False output\n",
    "\n",
    "print(5 < 10)\n",
    "print(5 > 12)"
   ]
  },
  {
   "cell_type": "code",
   "execution_count": 15,
   "id": "d83329ca-de06-40a4-b0d4-d83127d46668",
   "metadata": {},
   "outputs": [
    {
     "name": "stdout",
     "output_type": "stream",
     "text": [
      "False\n",
      "True\n"
     ]
    }
   ],
   "source": [
    "#>; greater than; this is a boolean operator because it returns True or False output \n",
    "print(8 > 9)\n",
    "print(9 > 7)"
   ]
  },
  {
   "cell_type": "code",
   "execution_count": 16,
   "id": "0ff04f3c-c039-43d1-b271-78d16cb5af3c",
   "metadata": {},
   "outputs": [
    {
     "name": "stdout",
     "output_type": "stream",
     "text": [
      "True\n",
      "False\n"
     ]
    }
   ],
   "source": [
    "#!= Not equals to (boolean operator)\n",
    "print(9 != 10)\n",
    "print(10 != 10)"
   ]
  },
  {
   "cell_type": "code",
   "execution_count": 17,
   "id": "4fe40d92-86bc-47df-a7d5-948c6d098bfb",
   "metadata": {},
   "outputs": [
    {
     "name": "stdout",
     "output_type": "stream",
     "text": [
      "True\n",
      "False\n"
     ]
    }
   ],
   "source": [
    "#==; equality sign\n",
    "print(10 == 10)\n",
    "print(7 == 9)"
   ]
  },
  {
   "cell_type": "code",
   "execution_count": 18,
   "id": "6f5dc0e8-3415-47a4-a302-0c40847a028d",
   "metadata": {},
   "outputs": [
    {
     "name": "stdout",
     "output_type": "stream",
     "text": [
      "27\n"
     ]
    }
   ],
   "source": [
    "#*; multiply; \n",
    "print(3 * 9)"
   ]
  },
  {
   "cell_type": "code",
   "execution_count": 19,
   "id": "8514bd59-1c7b-4b1b-be60-ce9396739901",
   "metadata": {},
   "outputs": [
    {
     "name": "stdout",
     "output_type": "stream",
     "text": [
      "81\n"
     ]
    }
   ],
   "source": [
    "#**; raise to power \n",
    "print(9**2)"
   ]
  },
  {
   "cell_type": "code",
   "execution_count": 20,
   "id": "85e156c2-41cb-4ba6-8871-e901367e9649",
   "metadata": {},
   "outputs": [
    {
     "name": "stdout",
     "output_type": "stream",
     "text": [
      "True\n",
      "False\n"
     ]
    }
   ],
   "source": [
    "#and; \n",
    "a = 5 \n",
    "b = 10 \n",
    "c = 20\n",
    "\n",
    "print(a < b and a < c)\n",
    "print(a > b and a < b)"
   ]
  },
  {
   "cell_type": "code",
   "execution_count": 21,
   "id": "94571ccc-c094-486a-b51a-c875380d183f",
   "metadata": {},
   "outputs": [
    {
     "name": "stdout",
     "output_type": "stream",
     "text": [
      "True\n",
      "True\n"
     ]
    }
   ],
   "source": [
    "#or; \n",
    "a = 5 \n",
    "b = 10 \n",
    "c = 20\n",
    "\n",
    "print(a < b or a < c)\n",
    "print(a > b or a < b)"
   ]
  },
  {
   "cell_type": "markdown",
   "id": "39ded460-4b20-497d-b33b-6d4acf332a70",
   "metadata": {},
   "source": [
    "#### Data Structures: \n",
    "\n",
    "These are structures that hold or contain data types, where data types are stored.\n",
    "We have the following data structures:\n",
    "\n",
    "- List: This is usually denoted by square brackets [ ]. Lists can hold different data types, it is mutable, that is it can be manipulated. Lists are ordered and they are indexed \n",
    "\n",
    "- Sets: This is usually denoted by the curly bracksets {}. This does not allow duplicates\n",
    "\n",
    "- Tuples: This is usually denoted by the round brackets (). This is an immutable data structure, that is, it cannot be changed.\n",
    "\n",
    "- Dictionary: This is also usually denoted by curly brackets {} and they hold data in key value pairs"
   ]
  },
  {
   "cell_type": "code",
   "execution_count": 64,
   "id": "d1b1b2c4-060f-4869-9b88-6d648e811f60",
   "metadata": {
    "scrolled": true
   },
   "outputs": [
    {
     "name": "stdout",
     "output_type": "stream",
     "text": [
      "[12, 55, 'Tolani', 'Van', True, 0.08, 'Kemi']\n"
     ]
    }
   ],
   "source": [
    "mylist = [12, 55, 'Tolani', 'Van', True, 0.08, 'Kemi']\n",
    "print(mylist)"
   ]
  },
  {
   "cell_type": "code",
   "execution_count": 66,
   "id": "887f58b1-789b-43c1-b470-82f54d2ac3fa",
   "metadata": {},
   "outputs": [
    {
     "name": "stdout",
     "output_type": "stream",
     "text": [
      "['Joy', 'Faith', 'Progress', 'Femi', 'Favour', 'Prosper']\n"
     ]
    }
   ],
   "source": [
    "students = ['Joy', 'Faith', 'Progress', 'Femi', 'Favour', 'Prosper']\n",
    "print(students)"
   ]
  },
  {
   "cell_type": "code",
   "execution_count": null,
   "id": "7d981f8c-8cd9-4295-9215-1951c0260e26",
   "metadata": {},
   "outputs": [],
   "source": []
  },
  {
   "cell_type": "markdown",
   "id": "2e380408-3541-49b1-8dc7-191797a07132",
   "metadata": {},
   "source": [
    "#### List slicing: This is a method of extracting items from your list in different positions\n",
    "\n",
    "- You use indexing to extract or call items from a list\n",
    "\n",
    "- Indexing refers to positions within a list and this starts from 0\n",
    "\n",
    "- To extract items from a list, the syntax is; variable_name[start:stop:step]; start: where you want to start slicing, stop; where you want it to stop, step; the size or difference between each item"
   ]
  },
  {
   "cell_type": "code",
   "execution_count": 70,
   "id": "0c4e02c7-0b7d-44b5-a6a6-d29b4287f085",
   "metadata": {},
   "outputs": [],
   "source": [
    "#Exercise1: Retrieve the first item from the students list \n",
    "#Exercise2: Retrieve the second item from the students list \n",
    "#Exercise3: Retrieve the third item from the students list \n",
    "#Exercise4: Retrieve the first 3 items from the students list \n",
    "#Exercise5: Retrieve the first 4 items from the students list \n"
   ]
  },
  {
   "cell_type": "code",
   "execution_count": 74,
   "id": "5dcc4fec-4a4b-4841-a6f3-355fa8927ae8",
   "metadata": {},
   "outputs": [
    {
     "name": "stdout",
     "output_type": "stream",
     "text": [
      "['Joy', 'Faith', 'Progress']\n"
     ]
    }
   ],
   "source": [
    "print(students[0:3:1])"
   ]
  },
  {
   "cell_type": "code",
   "execution_count": 77,
   "id": "01889809-504a-4162-bd67-d019025e648f",
   "metadata": {},
   "outputs": [
    {
     "name": "stdout",
     "output_type": "stream",
     "text": [
      "['Joy', 'Progress', 'Favour']\n"
     ]
    }
   ],
   "source": [
    "print(students[0:5:2])"
   ]
  },
  {
   "cell_type": "code",
   "execution_count": 79,
   "id": "7264320c-f7fd-45a4-85e7-f4bf3edeb9a4",
   "metadata": {},
   "outputs": [
    {
     "name": "stdout",
     "output_type": "stream",
     "text": [
      "Joy\n"
     ]
    }
   ],
   "source": [
    "#Exercise1: Retrieve the first item from the students list \n",
    "print(students[0])"
   ]
  },
  {
   "cell_type": "code",
   "execution_count": 81,
   "id": "7a4f0f8f-2a7a-485f-847e-dec4838f92a6",
   "metadata": {},
   "outputs": [
    {
     "name": "stdout",
     "output_type": "stream",
     "text": [
      "Faith\n"
     ]
    }
   ],
   "source": [
    "#Exercise2: Retrieve the second item from the students list \n",
    "print(students[1])"
   ]
  },
  {
   "cell_type": "code",
   "execution_count": 83,
   "id": "816e5f2f-64e4-4627-b36a-805796667dd9",
   "metadata": {},
   "outputs": [
    {
     "name": "stdout",
     "output_type": "stream",
     "text": [
      "Progress\n"
     ]
    }
   ],
   "source": [
    "#Exercise3: Retrieve the third item from the students list \n",
    "print(students[2])"
   ]
  },
  {
   "cell_type": "code",
   "execution_count": 85,
   "id": "358351da-a143-4464-ad76-f1ad1c96f73b",
   "metadata": {},
   "outputs": [
    {
     "name": "stdout",
     "output_type": "stream",
     "text": [
      "['Joy', 'Faith', 'Progress']\n"
     ]
    }
   ],
   "source": [
    "#Exercise4: Retrieve the first 3 items from the students list \n",
    "print(students[0:3])"
   ]
  },
  {
   "cell_type": "code",
   "execution_count": 87,
   "id": "68e1b936-936a-4b53-a9fc-b9bc2058786f",
   "metadata": {},
   "outputs": [
    {
     "name": "stdout",
     "output_type": "stream",
     "text": [
      "['Joy', 'Faith', 'Progress', 'Femi']\n"
     ]
    }
   ],
   "source": [
    "#Exercise5: Retrieve the first 4 items from the students list \n",
    "print(students[0:4])"
   ]
  },
  {
   "cell_type": "code",
   "execution_count": 96,
   "id": "6bba8f77-0500-46e4-99b7-4ec5d38be108",
   "metadata": {},
   "outputs": [
    {
     "name": "stdout",
     "output_type": "stream",
     "text": [
      "['Faith', 'Progress', 'Femi', 'Favour', 'Prosper']\n"
     ]
    }
   ],
   "source": [
    "#Retrieve the list from the 2nd item to the last\n",
    "print(students[1:])"
   ]
  },
  {
   "cell_type": "code",
   "execution_count": 100,
   "id": "9b99491e-d874-414b-a059-27a5423871d5",
   "metadata": {},
   "outputs": [
    {
     "name": "stdout",
     "output_type": "stream",
     "text": [
      "['Joy', 'Faith', 'Progress', 'Femi', 'Favour', 'Prosper']\n",
      "['Joy', 'Faith', 'Progress', 'Femi', 'Favour', 'Prosper']\n"
     ]
    }
   ],
   "source": [
    "#Retrieve everything in the list \n",
    "print(students)\n",
    "print(students[:])"
   ]
  },
  {
   "cell_type": "markdown",
   "id": "72cd2d18-2201-4785-bdb6-dbbf5db373b5",
   "metadata": {},
   "source": [
    "#### Negative indexing\n",
    "\n",
    "- This refers to indexing your list from the end of the list\n",
    "- -1 refers to the last item in the list\n",
    "- -2 refers to the second to the last item in the list"
   ]
  },
  {
   "cell_type": "code",
   "execution_count": 93,
   "id": "989754e7-8df4-4c31-bc6b-debbb34e0887",
   "metadata": {},
   "outputs": [
    {
     "name": "stdout",
     "output_type": "stream",
     "text": [
      "Prosper\n"
     ]
    }
   ],
   "source": [
    "print(students[-1])"
   ]
  },
  {
   "cell_type": "code",
   "execution_count": 104,
   "id": "9761526e-19f0-4128-94f1-0bc3658933dc",
   "metadata": {},
   "outputs": [
    {
     "name": "stdout",
     "output_type": "stream",
     "text": [
      "['Joy', 'Faith', 'Progress', 'Femi', 'Favour']\n"
     ]
    }
   ],
   "source": [
    "#Retrieve everything starting from the first item and stop at last item, the last item will be excluded\n",
    "print(students[:-1])"
   ]
  },
  {
   "cell_type": "code",
   "execution_count": 106,
   "id": "808b8746-0931-4301-8a73-f37037606dc4",
   "metadata": {},
   "outputs": [
    {
     "name": "stdout",
     "output_type": "stream",
     "text": [
      "['Joy', 'Progress', 'Favour']\n"
     ]
    }
   ],
   "source": [
    "#using negative indexing retrieve each item in the list using a step size of 2\n",
    "\n",
    "print(students[:-1:2])"
   ]
  },
  {
   "cell_type": "code",
   "execution_count": 108,
   "id": "30972f4a-9a5e-4966-87d0-030d42aa5346",
   "metadata": {},
   "outputs": [
    {
     "name": "stdout",
     "output_type": "stream",
     "text": [
      "['Joy', 'Femi']\n"
     ]
    }
   ],
   "source": [
    "#Exercise 1: Using negative indexing, retrieve the items in the list with a step size of 3\n",
    "print(students[:-1:3])\n"
   ]
  },
  {
   "cell_type": "markdown",
   "id": "932455e9-2e9d-400c-815a-d614b8e43af4",
   "metadata": {},
   "source": [
    "### List manipulation \n",
    "\n",
    "- This is a concept in python that involves various manipulations in lists such as changing items in list, replacing them, deleting them and updating them by using what is called List methods \n",
    "- We have a number of list methods such as; pop, append, extend, del, insert, clear, upper, capitalize, lower, remove, sort, sorted"
   ]
  },
  {
   "cell_type": "code",
   "execution_count": 116,
   "id": "aa223de2-d85f-4492-9a78-8e1e13899f36",
   "metadata": {},
   "outputs": [
    {
     "name": "stdout",
     "output_type": "stream",
     "text": [
      "['donkey', 'lion', 'tiger', 'elephant', 'monkey', 'zebra', 'snake', 'baboon', 'leopard']\n"
     ]
    }
   ],
   "source": [
    "animals = ['donkey', 'lion', 'tiger', 'elephant', 'monkey', 'zebra', 'snake', 'baboon', 'leopard']\n",
    "print(animals)"
   ]
  },
  {
   "cell_type": "code",
   "execution_count": 118,
   "id": "181921d0-ef82-4202-8f68-17dd4cf8910d",
   "metadata": {},
   "outputs": [
    {
     "name": "stdout",
     "output_type": "stream",
     "text": [
      "leopard\n"
     ]
    }
   ],
   "source": [
    "#pop: this will remove the last item from a list except you specify the index of the item you want to remove \n",
    "#syntax = variable_name.pop()\n",
    "\n",
    "print(animals.pop())"
   ]
  },
  {
   "cell_type": "code",
   "execution_count": 120,
   "id": "b23bb080-be65-49aa-9426-f7b025c5f44a",
   "metadata": {},
   "outputs": [
    {
     "name": "stdout",
     "output_type": "stream",
     "text": [
      "['donkey', 'lion', 'tiger', 'elephant', 'monkey', 'zebra', 'snake', 'baboon']\n"
     ]
    }
   ],
   "source": [
    "print(animals)"
   ]
  },
  {
   "cell_type": "code",
   "execution_count": 124,
   "id": "21697027-7f65-4648-87bb-a66baf163ec5",
   "metadata": {},
   "outputs": [
    {
     "name": "stdout",
     "output_type": "stream",
     "text": [
      "elephant\n"
     ]
    }
   ],
   "source": [
    "print(animals.pop(3))"
   ]
  },
  {
   "cell_type": "code",
   "execution_count": 126,
   "id": "732c51b4-cee5-4766-9649-2901e0ed32b9",
   "metadata": {},
   "outputs": [
    {
     "name": "stdout",
     "output_type": "stream",
     "text": [
      "['donkey', 'lion', 'tiger', 'monkey', 'zebra', 'snake', 'baboon']\n"
     ]
    }
   ],
   "source": [
    "print(animals)"
   ]
  },
  {
   "cell_type": "code",
   "execution_count": 128,
   "id": "60027d06-de8c-490f-9b0f-ae03f2bd23b8",
   "metadata": {},
   "outputs": [
    {
     "name": "stdout",
     "output_type": "stream",
     "text": [
      "None\n"
     ]
    }
   ],
   "source": [
    "#append: this will add a specified item to a list at the last index\n",
    "#syntax: variable_name.append(item) \n",
    "print(animals.append('giraffe'))"
   ]
  },
  {
   "cell_type": "code",
   "execution_count": 130,
   "id": "e62be495-5eb8-4e75-b05f-08ffd5c2e71a",
   "metadata": {},
   "outputs": [
    {
     "name": "stdout",
     "output_type": "stream",
     "text": [
      "['donkey', 'lion', 'tiger', 'monkey', 'zebra', 'snake', 'baboon', 'giraffe']\n"
     ]
    }
   ],
   "source": [
    "print(animals)"
   ]
  },
  {
   "cell_type": "code",
   "execution_count": 133,
   "id": "e8faaaf5-b2c9-44d9-97ea-32df79dab315",
   "metadata": {},
   "outputs": [
    {
     "name": "stdout",
     "output_type": "stream",
     "text": [
      "['flower', 'plant', 'fruit', 'vegetable', 'pot']\n"
     ]
    }
   ],
   "source": [
    "garden = ['flower', 'plant', 'fruit', 'vegetable', 'pot']\n",
    "print(garden)"
   ]
  },
  {
   "cell_type": "code",
   "execution_count": 135,
   "id": "310ac7b4-f55c-4321-b141-bdce05110f43",
   "metadata": {},
   "outputs": [
    {
     "name": "stdout",
     "output_type": "stream",
     "text": [
      "None\n"
     ]
    }
   ],
   "source": [
    "#extend: this will add another list to a list \n",
    "#syntax: variable_name.extend(second_list)\n",
    "print(animals.extend(garden))\n"
   ]
  },
  {
   "cell_type": "code",
   "execution_count": 137,
   "id": "3834615d-0bc9-4e4c-aa2e-3ab0a7fa7fc7",
   "metadata": {},
   "outputs": [
    {
     "name": "stdout",
     "output_type": "stream",
     "text": [
      "['donkey', 'lion', 'tiger', 'monkey', 'zebra', 'snake', 'baboon', 'giraffe', 'flower', 'plant', 'fruit', 'vegetable', 'pot']\n"
     ]
    }
   ],
   "source": [
    "print(animals)"
   ]
  },
  {
   "cell_type": "code",
   "execution_count": 139,
   "id": "2551e245-53d3-412c-9311-c59f011e7bf8",
   "metadata": {},
   "outputs": [],
   "source": [
    "#remove: this will remove the first occurence of an item in a list or at a specifed index\n",
    "#syntax: variable_name.remove(item) \n",
    "print(animals.remove('snake'))"
   ]
  },
  {
   "cell_type": "code",
   "execution_count": 141,
   "id": "642bd885-dc2c-41e7-bd6f-cc4ede74652e",
   "metadata": {},
   "outputs": [
    {
     "name": "stdout",
     "output_type": "stream",
     "text": [
      "['donkey', 'lion', 'tiger', 'monkey', 'zebra', 'baboon', 'giraffe', 'flower', 'plant', 'fruit', 'vegetable', 'pot']\n"
     ]
    }
   ],
   "source": [
    "print(animals)"
   ]
  },
  {
   "cell_type": "code",
   "execution_count": 143,
   "id": "27d3a99a-b5ed-4b91-9c94-96b5cd898f25",
   "metadata": {},
   "outputs": [
    {
     "name": "stdout",
     "output_type": "stream",
     "text": [
      "None\n"
     ]
    }
   ],
   "source": [
    "#insert: this is used to add items to a list at a specified position/index\n",
    "#syntax: variable_name.insert(index, item)\n",
    "print(animals.insert(0, 'Cat'))"
   ]
  },
  {
   "cell_type": "code",
   "execution_count": 145,
   "id": "6c03c595-b97f-44e1-88b5-80361e25bf48",
   "metadata": {},
   "outputs": [
    {
     "name": "stdout",
     "output_type": "stream",
     "text": [
      "['Cat', 'donkey', 'lion', 'tiger', 'monkey', 'zebra', 'baboon', 'giraffe', 'flower', 'plant', 'fruit', 'vegetable', 'pot']\n"
     ]
    }
   ],
   "source": [
    "print(animals)"
   ]
  },
  {
   "cell_type": "code",
   "execution_count": null,
   "id": "498df04b-1492-4fab-8a19-10be849aad3f",
   "metadata": {},
   "outputs": [],
   "source": []
  },
  {
   "cell_type": "code",
   "execution_count": null,
   "id": "98b9482b-72ab-4794-9e6b-cb3693591f89",
   "metadata": {},
   "outputs": [],
   "source": []
  },
  {
   "cell_type": "code",
   "execution_count": null,
   "id": "f1de5a50-8be8-44d7-bf8c-b25ed8dbdd30",
   "metadata": {},
   "outputs": [],
   "source": []
  }
 ],
 "metadata": {
  "kernelspec": {
   "display_name": "Python 3 (ipykernel)",
   "language": "python",
   "name": "python3"
  },
  "language_info": {
   "codemirror_mode": {
    "name": "ipython",
    "version": 3
   },
   "file_extension": ".py",
   "mimetype": "text/x-python",
   "name": "python",
   "nbconvert_exporter": "python",
   "pygments_lexer": "ipython3",
   "version": "3.11.5"
  }
 },
 "nbformat": 4,
 "nbformat_minor": 5
}
